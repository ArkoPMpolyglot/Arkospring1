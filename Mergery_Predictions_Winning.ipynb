{
 "cells": [
  {
   "cell_type": "code",
   "execution_count": 1,
   "metadata": {},
   "outputs": [],
   "source": [
    "import pandas as pd\n",
    "import seaborn as sns\n",
    "import matplotlib.pyplot as plt"
   ]
  },
  {
   "cell_type": "code",
   "execution_count": 2,
   "metadata": {
    "scrolled": true
   },
   "outputs": [
    {
     "data": {
      "text/html": [
       "<div>\n",
       "<style scoped>\n",
       "    .dataframe tbody tr th:only-of-type {\n",
       "        vertical-align: middle;\n",
       "    }\n",
       "\n",
       "    .dataframe tbody tr th {\n",
       "        vertical-align: top;\n",
       "    }\n",
       "\n",
       "    .dataframe thead th {\n",
       "        text-align: right;\n",
       "    }\n",
       "</style>\n",
       "<table border=\"1\" class=\"dataframe\">\n",
       "  <thead>\n",
       "    <tr style=\"text-align: right;\">\n",
       "      <th></th>\n",
       "      <th>id</th>\n",
       "      <th>departure city</th>\n",
       "      <th>discount</th>\n",
       "      <th>price</th>\n",
       "      <th>no of items</th>\n",
       "      <th>location</th>\n",
       "      <th>class</th>\n",
       "      <th>segment</th>\n",
       "      <th>sub-class</th>\n",
       "      <th>delivery type</th>\n",
       "      <th>RID</th>\n",
       "      <th>profit</th>\n",
       "      <th>delivery date</th>\n",
       "      <th>address code</th>\n",
       "      <th>departure state</th>\n",
       "      <th>placement date</th>\n",
       "    </tr>\n",
       "  </thead>\n",
       "  <tbody>\n",
       "    <tr>\n",
       "      <th>0</th>\n",
       "      <td>1</td>\n",
       "      <td>Houston</td>\n",
       "      <td>0.2</td>\n",
       "      <td>16.448</td>\n",
       "      <td>2</td>\n",
       "      <td>Central</td>\n",
       "      <td>kariox</td>\n",
       "      <td>Consumer</td>\n",
       "      <td>phone</td>\n",
       "      <td>Standard Class</td>\n",
       "      <td>7981</td>\n",
       "      <td>5.5512</td>\n",
       "      <td>2018-01-01</td>\n",
       "      <td>77095</td>\n",
       "      <td>Texas</td>\n",
       "      <td>2018-01-01</td>\n",
       "    </tr>\n",
       "    <tr>\n",
       "      <th>1</th>\n",
       "      <td>2</td>\n",
       "      <td>Westland</td>\n",
       "      <td>0.0</td>\n",
       "      <td>29.700</td>\n",
       "      <td>5</td>\n",
       "      <td>Central</td>\n",
       "      <td>kariox</td>\n",
       "      <td>Consumer</td>\n",
       "      <td>headset</td>\n",
       "      <td>Standard Class</td>\n",
       "      <td>6334</td>\n",
       "      <td>13.3650</td>\n",
       "      <td>2018-01-01</td>\n",
       "      <td>48185</td>\n",
       "      <td>Michigan</td>\n",
       "      <td>2018-01-01</td>\n",
       "    </tr>\n",
       "    <tr>\n",
       "      <th>2</th>\n",
       "      <td>3</td>\n",
       "      <td>Westland</td>\n",
       "      <td>0.0</td>\n",
       "      <td>14.730</td>\n",
       "      <td>3</td>\n",
       "      <td>Central</td>\n",
       "      <td>qexty</td>\n",
       "      <td>Consumer</td>\n",
       "      <td>shorts</td>\n",
       "      <td>Standard Class</td>\n",
       "      <td>6333</td>\n",
       "      <td>4.8609</td>\n",
       "      <td>2018-01-01</td>\n",
       "      <td>48185</td>\n",
       "      <td>Michigan</td>\n",
       "      <td>2018-01-01</td>\n",
       "    </tr>\n",
       "    <tr>\n",
       "      <th>3</th>\n",
       "      <td>4</td>\n",
       "      <td>Westland</td>\n",
       "      <td>0.0</td>\n",
       "      <td>43.920</td>\n",
       "      <td>3</td>\n",
       "      <td>Central</td>\n",
       "      <td>kariox</td>\n",
       "      <td>Consumer</td>\n",
       "      <td>television</td>\n",
       "      <td>Standard Class</td>\n",
       "      <td>6332</td>\n",
       "      <td>12.7368</td>\n",
       "      <td>2018-01-01</td>\n",
       "      <td>48185</td>\n",
       "      <td>Michigan</td>\n",
       "      <td>2018-01-01</td>\n",
       "    </tr>\n",
       "    <tr>\n",
       "      <th>4</th>\n",
       "      <td>5</td>\n",
       "      <td>Westland</td>\n",
       "      <td>0.0</td>\n",
       "      <td>66.580</td>\n",
       "      <td>2</td>\n",
       "      <td>Central</td>\n",
       "      <td>kariox</td>\n",
       "      <td>Consumer</td>\n",
       "      <td>laptop</td>\n",
       "      <td>Standard Class</td>\n",
       "      <td>6331</td>\n",
       "      <td>15.9792</td>\n",
       "      <td>2018-01-01</td>\n",
       "      <td>48185</td>\n",
       "      <td>Michigan</td>\n",
       "      <td>2018-01-01</td>\n",
       "    </tr>\n",
       "  </tbody>\n",
       "</table>\n",
       "</div>"
      ],
      "text/plain": [
       "   id departure city  discount   price  no of items location   class  \\\n",
       "0   1        Houston       0.2  16.448            2  Central  kariox   \n",
       "1   2       Westland       0.0  29.700            5  Central  kariox   \n",
       "2   3       Westland       0.0  14.730            3  Central   qexty   \n",
       "3   4       Westland       0.0  43.920            3  Central  kariox   \n",
       "4   5       Westland       0.0  66.580            2  Central  kariox   \n",
       "\n",
       "    segment   sub-class   delivery type   RID   profit delivery date  \\\n",
       "0  Consumer       phone  Standard Class  7981   5.5512    2018-01-01   \n",
       "1  Consumer     headset  Standard Class  6334  13.3650    2018-01-01   \n",
       "2  Consumer      shorts  Standard Class  6333   4.8609    2018-01-01   \n",
       "3  Consumer  television  Standard Class  6332  12.7368    2018-01-01   \n",
       "4  Consumer      laptop  Standard Class  6331  15.9792    2018-01-01   \n",
       "\n",
       "   address code departure state placement date  \n",
       "0         77095           Texas     2018-01-01  \n",
       "1         48185        Michigan     2018-01-01  \n",
       "2         48185        Michigan     2018-01-01  \n",
       "3         48185        Michigan     2018-01-01  \n",
       "4         48185        Michigan     2018-01-01  "
      ]
     },
     "execution_count": 2,
     "metadata": {},
     "output_type": "execute_result"
    }
   ],
   "source": [
    "data = pd.read_csv('train.csv')\n",
    "data.head()"
   ]
  },
  {
   "cell_type": "code",
   "execution_count": 3,
   "metadata": {},
   "outputs": [
    {
     "data": {
      "text/plain": [
       "(6700, 16)"
      ]
     },
     "execution_count": 3,
     "metadata": {},
     "output_type": "execute_result"
    }
   ],
   "source": [
    "data.shape"
   ]
  },
  {
   "cell_type": "code",
   "execution_count": null,
   "metadata": {},
   "outputs": [],
   "source": []
  },
  {
   "cell_type": "code",
   "execution_count": 106,
   "metadata": {},
   "outputs": [],
   "source": [
    "food_beverage = data[data['class']=='fynota']\n",
    "food_beverage = food_beverage[food_beverage['price']<9000]\n",
    "food_beverage['profit_parameter']= food_beverage['profit']/(food_beverage['price']*(1-food_beverage['discount']))\n",
    "food_beverage['cost_price']=food_beverage['price']*(1-food_beverage['discount'])-food_beverage['profit']\n",
    "food_beverage['date_dt']=pd.to_datetime(food_beverage['placement date'])\n",
    "food_beverage['year'],food_beverage['month']=(food_beverage['date_dt'].dt.year,\n",
    "                                              food_beverage['date_dt'].dt.month)"
   ]
  },
  {
   "cell_type": "code",
   "execution_count": 88,
   "metadata": {},
   "outputs": [
    {
     "name": "stdout",
     "output_type": "stream",
     "text": [
      "(1226, 16)\n",
      "(1430, 16)\n",
      "(4024, 16)\n"
     ]
    }
   ],
   "source": [
    "#Splitting 3 categories of data for better model fitting and analysis\n",
    "food_beverage = data[data['class']=='fynota']\n",
    "clothing = data[data['class']=='qexty']\n",
    "electronics=data[data['class']=='kariox']\n",
    "#Eliminate food_beverage outliers\n",
    "food_beverage = food_beverage[food_beverage['price']<9000]\n",
    "clothing= clothing[clothing['price']< 3500]\n",
    "electronics = electronics[electronics['price']<3500]\n",
    "print(food_beverage.shape)\n",
    "print(clothing.shape)\n",
    "print(electronics.shape)"
   ]
  },
  {
   "cell_type": "code",
   "execution_count": 89,
   "metadata": {},
   "outputs": [],
   "source": [
    "#Calculating mean profit and cost price for additional variation studies\n",
    "\n",
    "clothing['profit_parameter']= clothing['profit']/(clothing['price']*(1-clothing['discount']))\n",
    "clothing['cost_price']=clothing['price']*(1-clothing['discount'])-clothing['profit']\n",
    "electronics['profit_parameter']=electronics['profit']/(electronics['price']*(1-electronics['discount']))\n",
    "electronics['cost_price']=electronics['price']*(1-electronics['discount'])-electronics['profit']"
   ]
  },
  {
   "cell_type": "code",
   "execution_count": 90,
   "metadata": {},
   "outputs": [],
   "source": [
    "#Extract year and month from the data to see how profit is correleated with time\n",
    "from datetime import datetime\n",
    "\n",
    "clothing['date_dt']=pd.to_datetime(clothing['placement date'])\n",
    "electronics['date_dt']=pd.to_datetime(electronics['placement date'])\n",
    "food_beverage['year'],food_beverage['month']=(food_beverage['date_dt'].dt.year,food_beverage['date_dt'].dt.month)\n",
    "clothing['year'],clothing['month']=(clothing['date_dt'].dt.year,clothing['date_dt'].dt.month)\n",
    "electronics['year'],electronics['month']=(electronics['date_dt'].dt.year,electronics['date_dt'].dt.month)"
   ]
  },
  {
   "cell_type": "code",
   "execution_count": 7,
   "metadata": {},
   "outputs": [],
   "source": [
    "#We change the categorical variables to integers for easy formatting\n",
    " #define a function to convert an object (categorical) feature into an int feature\n",
    "# 0 = most common category, highest int = least common.\n",
    "def getObjectFeature(df, col, datalength=6700):\n",
    "    if df[col].dtype!='object': # if it's not categorical..\n",
    "        print('feature',col,'is not an object feature.')\n",
    "        return df\n",
    "    elif len([i for i in df[col].T.notnull() if i == True])!=datalength: # if there's missing data..\n",
    "        print('feature',col,'is missing data.')\n",
    "        return df\n",
    "    else:\n",
    "        df1 = df\n",
    "        counts = df1[col].value_counts() # get the counts for each label for the feature\n",
    "        df1[col] = [counts.index.tolist().index(i) for i in df1[col]] # do the conversion\n",
    "        return df1 # make the new (integer) column from the conversion"
   ]
  },
  {
   "cell_type": "code",
   "execution_count": 10,
   "metadata": {},
   "outputs": [
    {
     "name": "stdout",
     "output_type": "stream",
     "text": [
      "feature departure city is missing data.\n"
     ]
    },
    {
     "data": {
      "text/html": [
       "<div>\n",
       "<style scoped>\n",
       "    .dataframe tbody tr th:only-of-type {\n",
       "        vertical-align: middle;\n",
       "    }\n",
       "\n",
       "    .dataframe tbody tr th {\n",
       "        vertical-align: top;\n",
       "    }\n",
       "\n",
       "    .dataframe thead th {\n",
       "        text-align: right;\n",
       "    }\n",
       "</style>\n",
       "<table border=\"1\" class=\"dataframe\">\n",
       "  <thead>\n",
       "    <tr style=\"text-align: right;\">\n",
       "      <th></th>\n",
       "      <th>id</th>\n",
       "      <th>departure city</th>\n",
       "      <th>discount</th>\n",
       "      <th>price</th>\n",
       "      <th>no of items</th>\n",
       "      <th>location</th>\n",
       "      <th>class</th>\n",
       "      <th>segment</th>\n",
       "      <th>sub-class</th>\n",
       "      <th>delivery type</th>\n",
       "      <th>...</th>\n",
       "      <th>profit</th>\n",
       "      <th>delivery date</th>\n",
       "      <th>address code</th>\n",
       "      <th>departure state</th>\n",
       "      <th>placement date</th>\n",
       "      <th>profit_parameter</th>\n",
       "      <th>cost_price</th>\n",
       "      <th>date_dt</th>\n",
       "      <th>year</th>\n",
       "      <th>month</th>\n",
       "    </tr>\n",
       "  </thead>\n",
       "  <tbody>\n",
       "    <tr>\n",
       "      <th>0</th>\n",
       "      <td>1</td>\n",
       "      <td>Houston</td>\n",
       "      <td>0.2</td>\n",
       "      <td>16.448</td>\n",
       "      <td>2</td>\n",
       "      <td>Central</td>\n",
       "      <td>kariox</td>\n",
       "      <td>Consumer</td>\n",
       "      <td>phone</td>\n",
       "      <td>Standard Class</td>\n",
       "      <td>...</td>\n",
       "      <td>5.5512</td>\n",
       "      <td>2018-01-01</td>\n",
       "      <td>77095</td>\n",
       "      <td>Texas</td>\n",
       "      <td>2018-01-01</td>\n",
       "      <td>0.421875</td>\n",
       "      <td>7.6072</td>\n",
       "      <td>2018-01-01</td>\n",
       "      <td>2018</td>\n",
       "      <td>1</td>\n",
       "    </tr>\n",
       "    <tr>\n",
       "      <th>1</th>\n",
       "      <td>2</td>\n",
       "      <td>Westland</td>\n",
       "      <td>0.0</td>\n",
       "      <td>29.700</td>\n",
       "      <td>5</td>\n",
       "      <td>Central</td>\n",
       "      <td>kariox</td>\n",
       "      <td>Consumer</td>\n",
       "      <td>headset</td>\n",
       "      <td>Standard Class</td>\n",
       "      <td>...</td>\n",
       "      <td>13.3650</td>\n",
       "      <td>2018-01-01</td>\n",
       "      <td>48185</td>\n",
       "      <td>Michigan</td>\n",
       "      <td>2018-01-01</td>\n",
       "      <td>0.450000</td>\n",
       "      <td>16.3350</td>\n",
       "      <td>2018-01-01</td>\n",
       "      <td>2018</td>\n",
       "      <td>1</td>\n",
       "    </tr>\n",
       "    <tr>\n",
       "      <th>3</th>\n",
       "      <td>4</td>\n",
       "      <td>Westland</td>\n",
       "      <td>0.0</td>\n",
       "      <td>43.920</td>\n",
       "      <td>3</td>\n",
       "      <td>Central</td>\n",
       "      <td>kariox</td>\n",
       "      <td>Consumer</td>\n",
       "      <td>television</td>\n",
       "      <td>Standard Class</td>\n",
       "      <td>...</td>\n",
       "      <td>12.7368</td>\n",
       "      <td>2018-01-01</td>\n",
       "      <td>48185</td>\n",
       "      <td>Michigan</td>\n",
       "      <td>2018-01-01</td>\n",
       "      <td>0.290000</td>\n",
       "      <td>31.1832</td>\n",
       "      <td>2018-01-01</td>\n",
       "      <td>2018</td>\n",
       "      <td>1</td>\n",
       "    </tr>\n",
       "    <tr>\n",
       "      <th>4</th>\n",
       "      <td>5</td>\n",
       "      <td>Westland</td>\n",
       "      <td>0.0</td>\n",
       "      <td>66.580</td>\n",
       "      <td>2</td>\n",
       "      <td>Central</td>\n",
       "      <td>kariox</td>\n",
       "      <td>Consumer</td>\n",
       "      <td>laptop</td>\n",
       "      <td>Standard Class</td>\n",
       "      <td>...</td>\n",
       "      <td>15.9792</td>\n",
       "      <td>2018-01-01</td>\n",
       "      <td>48185</td>\n",
       "      <td>Michigan</td>\n",
       "      <td>2018-01-01</td>\n",
       "      <td>0.240000</td>\n",
       "      <td>50.6008</td>\n",
       "      <td>2018-01-01</td>\n",
       "      <td>2018</td>\n",
       "      <td>1</td>\n",
       "    </tr>\n",
       "    <tr>\n",
       "      <th>5</th>\n",
       "      <td>6</td>\n",
       "      <td>Westland</td>\n",
       "      <td>0.1</td>\n",
       "      <td>247.716</td>\n",
       "      <td>4</td>\n",
       "      <td>Central</td>\n",
       "      <td>kariox</td>\n",
       "      <td>Consumer</td>\n",
       "      <td>battery</td>\n",
       "      <td>Standard Class</td>\n",
       "      <td>...</td>\n",
       "      <td>93.5816</td>\n",
       "      <td>2018-01-01</td>\n",
       "      <td>48185</td>\n",
       "      <td>Michigan</td>\n",
       "      <td>2018-01-01</td>\n",
       "      <td>0.419753</td>\n",
       "      <td>129.3628</td>\n",
       "      <td>2018-01-01</td>\n",
       "      <td>2018</td>\n",
       "      <td>1</td>\n",
       "    </tr>\n",
       "    <tr>\n",
       "      <th>6</th>\n",
       "      <td>7</td>\n",
       "      <td>Westland</td>\n",
       "      <td>0.0</td>\n",
       "      <td>19.050</td>\n",
       "      <td>5</td>\n",
       "      <td>Central</td>\n",
       "      <td>kariox</td>\n",
       "      <td>Consumer</td>\n",
       "      <td>headset</td>\n",
       "      <td>Standard Class</td>\n",
       "      <td>...</td>\n",
       "      <td>8.9535</td>\n",
       "      <td>2018-01-01</td>\n",
       "      <td>48185</td>\n",
       "      <td>Michigan</td>\n",
       "      <td>2018-01-01</td>\n",
       "      <td>0.470000</td>\n",
       "      <td>10.0965</td>\n",
       "      <td>2018-01-01</td>\n",
       "      <td>2018</td>\n",
       "      <td>1</td>\n",
       "    </tr>\n",
       "    <tr>\n",
       "      <th>8</th>\n",
       "      <td>9</td>\n",
       "      <td>Smyrna</td>\n",
       "      <td>0.7</td>\n",
       "      <td>67.194</td>\n",
       "      <td>1</td>\n",
       "      <td>South</td>\n",
       "      <td>kariox</td>\n",
       "      <td>Corporate</td>\n",
       "      <td>headset</td>\n",
       "      <td>Standard Class</td>\n",
       "      <td>...</td>\n",
       "      <td>-51.5154</td>\n",
       "      <td>2018-01-01</td>\n",
       "      <td>37167</td>\n",
       "      <td>Tennessee</td>\n",
       "      <td>2018-01-01</td>\n",
       "      <td>-2.555556</td>\n",
       "      <td>71.6736</td>\n",
       "      <td>2018-01-01</td>\n",
       "      <td>2018</td>\n",
       "      <td>1</td>\n",
       "    </tr>\n",
       "    <tr>\n",
       "      <th>9</th>\n",
       "      <td>10</td>\n",
       "      <td>Westland</td>\n",
       "      <td>0.0</td>\n",
       "      <td>13.980</td>\n",
       "      <td>1</td>\n",
       "      <td>Central</td>\n",
       "      <td>kariox</td>\n",
       "      <td>Consumer</td>\n",
       "      <td>laptop</td>\n",
       "      <td>Standard Class</td>\n",
       "      <td>...</td>\n",
       "      <td>4.0542</td>\n",
       "      <td>2018-01-01</td>\n",
       "      <td>48185</td>\n",
       "      <td>Michigan</td>\n",
       "      <td>2018-01-01</td>\n",
       "      <td>0.290000</td>\n",
       "      <td>9.9258</td>\n",
       "      <td>2018-01-01</td>\n",
       "      <td>2018</td>\n",
       "      <td>1</td>\n",
       "    </tr>\n",
       "    <tr>\n",
       "      <th>11</th>\n",
       "      <td>12</td>\n",
       "      <td>Jonesboro</td>\n",
       "      <td>0.0</td>\n",
       "      <td>23.340</td>\n",
       "      <td>3</td>\n",
       "      <td>South</td>\n",
       "      <td>kariox</td>\n",
       "      <td>Consumer</td>\n",
       "      <td>watch</td>\n",
       "      <td>Standard Class</td>\n",
       "      <td>...</td>\n",
       "      <td>10.9698</td>\n",
       "      <td>2018-01-01</td>\n",
       "      <td>72401</td>\n",
       "      <td>Arkansas</td>\n",
       "      <td>2018-01-01</td>\n",
       "      <td>0.470000</td>\n",
       "      <td>12.3702</td>\n",
       "      <td>2018-01-01</td>\n",
       "      <td>2018</td>\n",
       "      <td>1</td>\n",
       "    </tr>\n",
       "    <tr>\n",
       "      <th>12</th>\n",
       "      <td>13</td>\n",
       "      <td>Jonesboro</td>\n",
       "      <td>0.0</td>\n",
       "      <td>6.630</td>\n",
       "      <td>3</td>\n",
       "      <td>South</td>\n",
       "      <td>kariox</td>\n",
       "      <td>Consumer</td>\n",
       "      <td>television</td>\n",
       "      <td>Standard Class</td>\n",
       "      <td>...</td>\n",
       "      <td>1.7901</td>\n",
       "      <td>2018-01-01</td>\n",
       "      <td>72401</td>\n",
       "      <td>Arkansas</td>\n",
       "      <td>2018-01-01</td>\n",
       "      <td>0.270000</td>\n",
       "      <td>4.8399</td>\n",
       "      <td>2018-01-01</td>\n",
       "      <td>2018</td>\n",
       "      <td>1</td>\n",
       "    </tr>\n",
       "  </tbody>\n",
       "</table>\n",
       "<p>10 rows × 21 columns</p>\n",
       "</div>"
      ],
      "text/plain": [
       "    id departure city  discount    price  no of items location   class  \\\n",
       "0    1        Houston       0.2   16.448            2  Central  kariox   \n",
       "1    2       Westland       0.0   29.700            5  Central  kariox   \n",
       "3    4       Westland       0.0   43.920            3  Central  kariox   \n",
       "4    5       Westland       0.0   66.580            2  Central  kariox   \n",
       "5    6       Westland       0.1  247.716            4  Central  kariox   \n",
       "6    7       Westland       0.0   19.050            5  Central  kariox   \n",
       "8    9         Smyrna       0.7   67.194            1    South  kariox   \n",
       "9   10       Westland       0.0   13.980            1  Central  kariox   \n",
       "11  12      Jonesboro       0.0   23.340            3    South  kariox   \n",
       "12  13      Jonesboro       0.0    6.630            3    South  kariox   \n",
       "\n",
       "      segment   sub-class   delivery type  ...   profit  delivery date  \\\n",
       "0    Consumer       phone  Standard Class  ...   5.5512     2018-01-01   \n",
       "1    Consumer     headset  Standard Class  ...  13.3650     2018-01-01   \n",
       "3    Consumer  television  Standard Class  ...  12.7368     2018-01-01   \n",
       "4    Consumer      laptop  Standard Class  ...  15.9792     2018-01-01   \n",
       "5    Consumer     battery  Standard Class  ...  93.5816     2018-01-01   \n",
       "6    Consumer     headset  Standard Class  ...   8.9535     2018-01-01   \n",
       "8   Corporate     headset  Standard Class  ... -51.5154     2018-01-01   \n",
       "9    Consumer      laptop  Standard Class  ...   4.0542     2018-01-01   \n",
       "11   Consumer       watch  Standard Class  ...  10.9698     2018-01-01   \n",
       "12   Consumer  television  Standard Class  ...   1.7901     2018-01-01   \n",
       "\n",
       "   address code  departure state placement date profit_parameter  cost_price  \\\n",
       "0         77095            Texas     2018-01-01         0.421875      7.6072   \n",
       "1         48185         Michigan     2018-01-01         0.450000     16.3350   \n",
       "3         48185         Michigan     2018-01-01         0.290000     31.1832   \n",
       "4         48185         Michigan     2018-01-01         0.240000     50.6008   \n",
       "5         48185         Michigan     2018-01-01         0.419753    129.3628   \n",
       "6         48185         Michigan     2018-01-01         0.470000     10.0965   \n",
       "8         37167        Tennessee     2018-01-01        -2.555556     71.6736   \n",
       "9         48185         Michigan     2018-01-01         0.290000      9.9258   \n",
       "11        72401         Arkansas     2018-01-01         0.470000     12.3702   \n",
       "12        72401         Arkansas     2018-01-01         0.270000      4.8399   \n",
       "\n",
       "      date_dt  year  month  \n",
       "0  2018-01-01  2018      1  \n",
       "1  2018-01-01  2018      1  \n",
       "3  2018-01-01  2018      1  \n",
       "4  2018-01-01  2018      1  \n",
       "5  2018-01-01  2018      1  \n",
       "6  2018-01-01  2018      1  \n",
       "8  2018-01-01  2018      1  \n",
       "9  2018-01-01  2018      1  \n",
       "11 2018-01-01  2018      1  \n",
       "12 2018-01-01  2018      1  \n",
       "\n",
       "[10 rows x 21 columns]"
      ]
     },
     "execution_count": 10,
     "metadata": {},
     "output_type": "execute_result"
    }
   ],
   "source": [
    "#Test the function if it converts successfully\n",
    "fcntest = getObjectFeature(electronics,'departure city')\n",
    "fcntest.head(10)"
   ]
  },
  {
   "cell_type": "code",
   "execution_count": 35,
   "metadata": {},
   "outputs": [
    {
     "data": {
      "text/plain": [
       "<AxesSubplot:>"
      ]
     },
     "execution_count": 35,
     "metadata": {},
     "output_type": "execute_result"
    },
    {
     "data": {
      "image/png": "[encoded data removed]",
      "text/plain": [
       "<Figure size 1080x720 with 2 Axes>"
      ]
     },
     "metadata": {
      "needs_background": "light"
     },
     "output_type": "display_data"
    }
   ],
   "source": [
    "plt.figure(figsize=(15, 10))\n",
    "sns.heatmap(electronics.corr(), annot=True)"
   ]
  },
  {
   "cell_type": "code",
   "execution_count": 12,
   "metadata": {},
   "outputs": [
    {
     "data": {
      "text/plain": [
       "<AxesSubplot:>"
      ]
     },
     "execution_count": 12,
     "metadata": {},
     "output_type": "execute_result"
    },
    {
     "data": {
      "image/png": "[encoded data removed]",
      "text/plain": [
       "<Figure size 1080x720 with 2 Axes>"
      ]
     },
     "metadata": {
      "needs_background": "light"
     },
     "output_type": "display_data"
    }
   ],
   "source": [
    "plt.figure(figsize=(15, 10))\n",
    "sns.heatmap(food_beverage.corr(), annot=True)"
   ]
  },
  {
   "cell_type": "code",
   "execution_count": 13,
   "metadata": {},
   "outputs": [
    {
     "data": {
      "text/plain": [
       "<AxesSubplot:>"
      ]
     },
     "execution_count": 13,
     "metadata": {},
     "output_type": "execute_result"
    },
    {
     "data": {
      "image/png": "[encoded data removed]",
      "text/plain": [
       "<Figure size 1080x720 with 2 Axes>"
      ]
     },
     "metadata": {
      "needs_background": "light"
     },
     "output_type": "display_data"
    }
   ],
   "source": [
    "plt.figure(figsize=(15, 10))\n",
    "sns.heatmap(clothing.corr(), annot=True)"
   ]
  },
  {
   "cell_type": "code",
   "execution_count": 12,
   "metadata": {},
   "outputs": [],
   "source": [
    "from sklearn import preprocessing\n",
    "from sklearn.preprocessing import StandardScaler"
   ]
  },
  {
   "cell_type": "code",
   "execution_count": 25,
   "metadata": {},
   "outputs": [
    {
     "data": {
      "text/html": [
       "<div>\n",
       "<style scoped>\n",
       "    .dataframe tbody tr th:only-of-type {\n",
       "        vertical-align: middle;\n",
       "    }\n",
       "\n",
       "    .dataframe tbody tr th {\n",
       "        vertical-align: top;\n",
       "    }\n",
       "\n",
       "    .dataframe thead th {\n",
       "        text-align: right;\n",
       "    }\n",
       "</style>\n",
       "<table border=\"1\" class=\"dataframe\">\n",
       "  <thead>\n",
       "    <tr style=\"text-align: right;\">\n",
       "      <th></th>\n",
       "      <th>id</th>\n",
       "      <th>departure city</th>\n",
       "      <th>discount</th>\n",
       "      <th>price</th>\n",
       "      <th>no of items</th>\n",
       "      <th>location</th>\n",
       "      <th>class</th>\n",
       "      <th>segment</th>\n",
       "      <th>sub-class</th>\n",
       "      <th>delivery type</th>\n",
       "      <th>...</th>\n",
       "      <th>profit</th>\n",
       "      <th>delivery date</th>\n",
       "      <th>address code</th>\n",
       "      <th>departure state</th>\n",
       "      <th>placement date</th>\n",
       "      <th>profit_parameter</th>\n",
       "      <th>cost_price</th>\n",
       "      <th>date_dt</th>\n",
       "      <th>year</th>\n",
       "      <th>month</th>\n",
       "    </tr>\n",
       "  </thead>\n",
       "  <tbody>\n",
       "    <tr>\n",
       "      <th>0</th>\n",
       "      <td>1</td>\n",
       "      <td>Houston</td>\n",
       "      <td>0.2</td>\n",
       "      <td>16.448</td>\n",
       "      <td>2</td>\n",
       "      <td>Central</td>\n",
       "      <td>kariox</td>\n",
       "      <td>Consumer</td>\n",
       "      <td>phone</td>\n",
       "      <td>Standard Class</td>\n",
       "      <td>...</td>\n",
       "      <td>5.5512</td>\n",
       "      <td>2018-01-01</td>\n",
       "      <td>77095</td>\n",
       "      <td>Texas</td>\n",
       "      <td>2018-01-01</td>\n",
       "      <td>0.421875</td>\n",
       "      <td>7.6072</td>\n",
       "      <td>2018-01-01</td>\n",
       "      <td>2018</td>\n",
       "      <td>1</td>\n",
       "    </tr>\n",
       "    <tr>\n",
       "      <th>1</th>\n",
       "      <td>2</td>\n",
       "      <td>Westland</td>\n",
       "      <td>0.0</td>\n",
       "      <td>29.700</td>\n",
       "      <td>5</td>\n",
       "      <td>Central</td>\n",
       "      <td>kariox</td>\n",
       "      <td>Consumer</td>\n",
       "      <td>headset</td>\n",
       "      <td>Standard Class</td>\n",
       "      <td>...</td>\n",
       "      <td>13.3650</td>\n",
       "      <td>2018-01-01</td>\n",
       "      <td>48185</td>\n",
       "      <td>Michigan</td>\n",
       "      <td>2018-01-01</td>\n",
       "      <td>0.450000</td>\n",
       "      <td>16.3350</td>\n",
       "      <td>2018-01-01</td>\n",
       "      <td>2018</td>\n",
       "      <td>1</td>\n",
       "    </tr>\n",
       "    <tr>\n",
       "      <th>3</th>\n",
       "      <td>4</td>\n",
       "      <td>Westland</td>\n",
       "      <td>0.0</td>\n",
       "      <td>43.920</td>\n",
       "      <td>3</td>\n",
       "      <td>Central</td>\n",
       "      <td>kariox</td>\n",
       "      <td>Consumer</td>\n",
       "      <td>television</td>\n",
       "      <td>Standard Class</td>\n",
       "      <td>...</td>\n",
       "      <td>12.7368</td>\n",
       "      <td>2018-01-01</td>\n",
       "      <td>48185</td>\n",
       "      <td>Michigan</td>\n",
       "      <td>2018-01-01</td>\n",
       "      <td>0.290000</td>\n",
       "      <td>31.1832</td>\n",
       "      <td>2018-01-01</td>\n",
       "      <td>2018</td>\n",
       "      <td>1</td>\n",
       "    </tr>\n",
       "    <tr>\n",
       "      <th>4</th>\n",
       "      <td>5</td>\n",
       "      <td>Westland</td>\n",
       "      <td>0.0</td>\n",
       "      <td>66.580</td>\n",
       "      <td>2</td>\n",
       "      <td>Central</td>\n",
       "      <td>kariox</td>\n",
       "      <td>Consumer</td>\n",
       "      <td>laptop</td>\n",
       "      <td>Standard Class</td>\n",
       "      <td>...</td>\n",
       "      <td>15.9792</td>\n",
       "      <td>2018-01-01</td>\n",
       "      <td>48185</td>\n",
       "      <td>Michigan</td>\n",
       "      <td>2018-01-01</td>\n",
       "      <td>0.240000</td>\n",
       "      <td>50.6008</td>\n",
       "      <td>2018-01-01</td>\n",
       "      <td>2018</td>\n",
       "      <td>1</td>\n",
       "    </tr>\n",
       "    <tr>\n",
       "      <th>5</th>\n",
       "      <td>6</td>\n",
       "      <td>Westland</td>\n",
       "      <td>0.1</td>\n",
       "      <td>247.716</td>\n",
       "      <td>4</td>\n",
       "      <td>Central</td>\n",
       "      <td>kariox</td>\n",
       "      <td>Consumer</td>\n",
       "      <td>battery</td>\n",
       "      <td>Standard Class</td>\n",
       "      <td>...</td>\n",
       "      <td>93.5816</td>\n",
       "      <td>2018-01-01</td>\n",
       "      <td>48185</td>\n",
       "      <td>Michigan</td>\n",
       "      <td>2018-01-01</td>\n",
       "      <td>0.419753</td>\n",
       "      <td>129.3628</td>\n",
       "      <td>2018-01-01</td>\n",
       "      <td>2018</td>\n",
       "      <td>1</td>\n",
       "    </tr>\n",
       "  </tbody>\n",
       "</table>\n",
       "<p>5 rows × 21 columns</p>\n",
       "</div>"
      ],
      "text/plain": [
       "   id departure city  discount    price  no of items location   class  \\\n",
       "0   1        Houston       0.2   16.448            2  Central  kariox   \n",
       "1   2       Westland       0.0   29.700            5  Central  kariox   \n",
       "3   4       Westland       0.0   43.920            3  Central  kariox   \n",
       "4   5       Westland       0.0   66.580            2  Central  kariox   \n",
       "5   6       Westland       0.1  247.716            4  Central  kariox   \n",
       "\n",
       "    segment   sub-class   delivery type  ...   profit  delivery date  \\\n",
       "0  Consumer       phone  Standard Class  ...   5.5512     2018-01-01   \n",
       "1  Consumer     headset  Standard Class  ...  13.3650     2018-01-01   \n",
       "3  Consumer  television  Standard Class  ...  12.7368     2018-01-01   \n",
       "4  Consumer      laptop  Standard Class  ...  15.9792     2018-01-01   \n",
       "5  Consumer     battery  Standard Class  ...  93.5816     2018-01-01   \n",
       "\n",
       "  address code  departure state placement date profit_parameter  cost_price  \\\n",
       "0        77095            Texas     2018-01-01         0.421875      7.6072   \n",
       "1        48185         Michigan     2018-01-01         0.450000     16.3350   \n",
       "3        48185         Michigan     2018-01-01         0.290000     31.1832   \n",
       "4        48185         Michigan     2018-01-01         0.240000     50.6008   \n",
       "5        48185         Michigan     2018-01-01         0.419753    129.3628   \n",
       "\n",
       "     date_dt  year  month  \n",
       "0 2018-01-01  2018      1  \n",
       "1 2018-01-01  2018      1  \n",
       "3 2018-01-01  2018      1  \n",
       "4 2018-01-01  2018      1  \n",
       "5 2018-01-01  2018      1  \n",
       "\n",
       "[5 rows x 21 columns]"
      ]
     },
     "execution_count": 25,
     "metadata": {},
     "output_type": "execute_result"
    }
   ],
   "source": [
    "electronics.head()"
   ]
  },
  {
   "cell_type": "code",
   "execution_count": 27,
   "metadata": {},
   "outputs": [
    {
     "data": {
      "text/html": [
       "<div>\n",
       "<style scoped>\n",
       "    .dataframe tbody tr th:only-of-type {\n",
       "        vertical-align: middle;\n",
       "    }\n",
       "\n",
       "    .dataframe tbody tr th {\n",
       "        vertical-align: top;\n",
       "    }\n",
       "\n",
       "    .dataframe thead th {\n",
       "        text-align: right;\n",
       "    }\n",
       "</style>\n",
       "<table border=\"1\" class=\"dataframe\">\n",
       "  <thead>\n",
       "    <tr style=\"text-align: right;\">\n",
       "      <th></th>\n",
       "      <th>RID</th>\n",
       "      <th>profit_parameter</th>\n",
       "      <th>cost_price</th>\n",
       "      <th>year</th>\n",
       "      <th>price</th>\n",
       "      <th>no of items</th>\n",
       "      <th>discount</th>\n",
       "      <th>class_kariox</th>\n",
       "      <th>delivery type_First Class</th>\n",
       "      <th>delivery type_Same Day</th>\n",
       "      <th>delivery type_Second Class</th>\n",
       "      <th>delivery type_Standard Class</th>\n",
       "      <th>segment_Consumer</th>\n",
       "      <th>segment_Corporate</th>\n",
       "      <th>segment_Home Office</th>\n",
       "      <th>location_Central</th>\n",
       "      <th>location_East</th>\n",
       "      <th>location_South</th>\n",
       "      <th>location_West</th>\n",
       "    </tr>\n",
       "  </thead>\n",
       "  <tbody>\n",
       "    <tr>\n",
       "      <th>0</th>\n",
       "      <td>7981</td>\n",
       "      <td>0.421875</td>\n",
       "      <td>7.6072</td>\n",
       "      <td>2018</td>\n",
       "      <td>16.448</td>\n",
       "      <td>2</td>\n",
       "      <td>0.2</td>\n",
       "      <td>1</td>\n",
       "      <td>0</td>\n",
       "      <td>0</td>\n",
       "      <td>0</td>\n",
       "      <td>1</td>\n",
       "      <td>1</td>\n",
       "      <td>0</td>\n",
       "      <td>0</td>\n",
       "      <td>1</td>\n",
       "      <td>0</td>\n",
       "      <td>0</td>\n",
       "      <td>0</td>\n",
       "    </tr>\n",
       "    <tr>\n",
       "      <th>1</th>\n",
       "      <td>6334</td>\n",
       "      <td>0.450000</td>\n",
       "      <td>16.3350</td>\n",
       "      <td>2018</td>\n",
       "      <td>29.700</td>\n",
       "      <td>5</td>\n",
       "      <td>0.0</td>\n",
       "      <td>1</td>\n",
       "      <td>0</td>\n",
       "      <td>0</td>\n",
       "      <td>0</td>\n",
       "      <td>1</td>\n",
       "      <td>1</td>\n",
       "      <td>0</td>\n",
       "      <td>0</td>\n",
       "      <td>1</td>\n",
       "      <td>0</td>\n",
       "      <td>0</td>\n",
       "      <td>0</td>\n",
       "    </tr>\n",
       "    <tr>\n",
       "      <th>3</th>\n",
       "      <td>6332</td>\n",
       "      <td>0.290000</td>\n",
       "      <td>31.1832</td>\n",
       "      <td>2018</td>\n",
       "      <td>43.920</td>\n",
       "      <td>3</td>\n",
       "      <td>0.0</td>\n",
       "      <td>1</td>\n",
       "      <td>0</td>\n",
       "      <td>0</td>\n",
       "      <td>0</td>\n",
       "      <td>1</td>\n",
       "      <td>1</td>\n",
       "      <td>0</td>\n",
       "      <td>0</td>\n",
       "      <td>1</td>\n",
       "      <td>0</td>\n",
       "      <td>0</td>\n",
       "      <td>0</td>\n",
       "    </tr>\n",
       "    <tr>\n",
       "      <th>4</th>\n",
       "      <td>6331</td>\n",
       "      <td>0.240000</td>\n",
       "      <td>50.6008</td>\n",
       "      <td>2018</td>\n",
       "      <td>66.580</td>\n",
       "      <td>2</td>\n",
       "      <td>0.0</td>\n",
       "      <td>1</td>\n",
       "      <td>0</td>\n",
       "      <td>0</td>\n",
       "      <td>0</td>\n",
       "      <td>1</td>\n",
       "      <td>1</td>\n",
       "      <td>0</td>\n",
       "      <td>0</td>\n",
       "      <td>1</td>\n",
       "      <td>0</td>\n",
       "      <td>0</td>\n",
       "      <td>0</td>\n",
       "    </tr>\n",
       "    <tr>\n",
       "      <th>5</th>\n",
       "      <td>6330</td>\n",
       "      <td>0.419753</td>\n",
       "      <td>129.3628</td>\n",
       "      <td>2018</td>\n",
       "      <td>247.716</td>\n",
       "      <td>4</td>\n",
       "      <td>0.1</td>\n",
       "      <td>1</td>\n",
       "      <td>0</td>\n",
       "      <td>0</td>\n",
       "      <td>0</td>\n",
       "      <td>1</td>\n",
       "      <td>1</td>\n",
       "      <td>0</td>\n",
       "      <td>0</td>\n",
       "      <td>1</td>\n",
       "      <td>0</td>\n",
       "      <td>0</td>\n",
       "      <td>0</td>\n",
       "    </tr>\n",
       "  </tbody>\n",
       "</table>\n",
       "</div>"
      ],
      "text/plain": [
       "    RID  profit_parameter  cost_price  year    price  no of items  discount  \\\n",
       "0  7981          0.421875      7.6072  2018   16.448            2       0.2   \n",
       "1  6334          0.450000     16.3350  2018   29.700            5       0.0   \n",
       "3  6332          0.290000     31.1832  2018   43.920            3       0.0   \n",
       "4  6331          0.240000     50.6008  2018   66.580            2       0.0   \n",
       "5  6330          0.419753    129.3628  2018  247.716            4       0.1   \n",
       "\n",
       "   class_kariox  delivery type_First Class  delivery type_Same Day  \\\n",
       "0             1                          0                       0   \n",
       "1             1                          0                       0   \n",
       "3             1                          0                       0   \n",
       "4             1                          0                       0   \n",
       "5             1                          0                       0   \n",
       "\n",
       "   delivery type_Second Class  delivery type_Standard Class  segment_Consumer  \\\n",
       "0                           0                             1                 1   \n",
       "1                           0                             1                 1   \n",
       "3                           0                             1                 1   \n",
       "4                           0                             1                 1   \n",
       "5                           0                             1                 1   \n",
       "\n",
       "   segment_Corporate  segment_Home Office  location_Central  location_East  \\\n",
       "0                  0                    0                 1              0   \n",
       "1                  0                    0                 1              0   \n",
       "3                  0                    0                 1              0   \n",
       "4                  0                    0                 1              0   \n",
       "5                  0                    0                 1              0   \n",
       "\n",
       "   location_South  location_West  \n",
       "0               0              0  \n",
       "1               0              0  \n",
       "3               0              0  \n",
       "4               0              0  \n",
       "5               0              0  "
      ]
     },
     "execution_count": 27,
     "metadata": {},
     "output_type": "execute_result"
    }
   ],
   "source": [
    "#Getting dummies for training on random forests\n",
    "electronics_dummy= pd.get_dummies(electronics[['class','delivery type','segment',\n",
    "    'location','RID','profit_parameter','cost_price','year','price','no of items','discount']])\n",
    "electronics_dummy.head()"
   ]
  },
  {
   "cell_type": "code",
   "execution_count": 28,
   "metadata": {},
   "outputs": [
    {
     "data": {
      "text/html": [
       "<div>\n",
       "<style scoped>\n",
       "    .dataframe tbody tr th:only-of-type {\n",
       "        vertical-align: middle;\n",
       "    }\n",
       "\n",
       "    .dataframe tbody tr th {\n",
       "        vertical-align: top;\n",
       "    }\n",
       "\n",
       "    .dataframe thead th {\n",
       "        text-align: right;\n",
       "    }\n",
       "</style>\n",
       "<table border=\"1\" class=\"dataframe\">\n",
       "  <thead>\n",
       "    <tr style=\"text-align: right;\">\n",
       "      <th></th>\n",
       "      <th>id</th>\n",
       "      <th>departure city</th>\n",
       "      <th>discount</th>\n",
       "      <th>price</th>\n",
       "      <th>no of items</th>\n",
       "      <th>location</th>\n",
       "      <th>class</th>\n",
       "      <th>segment</th>\n",
       "      <th>sub-class</th>\n",
       "      <th>delivery type</th>\n",
       "      <th>...</th>\n",
       "      <th>profit</th>\n",
       "      <th>delivery date</th>\n",
       "      <th>address code</th>\n",
       "      <th>departure state</th>\n",
       "      <th>placement date</th>\n",
       "      <th>profit_parameter</th>\n",
       "      <th>cost_price</th>\n",
       "      <th>date_dt</th>\n",
       "      <th>year</th>\n",
       "      <th>month</th>\n",
       "    </tr>\n",
       "  </thead>\n",
       "  <tbody>\n",
       "    <tr>\n",
       "      <th>0</th>\n",
       "      <td>1</td>\n",
       "      <td>Houston</td>\n",
       "      <td>0.2</td>\n",
       "      <td>16.448</td>\n",
       "      <td>2</td>\n",
       "      <td>Central</td>\n",
       "      <td>kariox</td>\n",
       "      <td>Consumer</td>\n",
       "      <td>phone</td>\n",
       "      <td>Standard Class</td>\n",
       "      <td>...</td>\n",
       "      <td>5.5512</td>\n",
       "      <td>2018-01-01</td>\n",
       "      <td>77095</td>\n",
       "      <td>Texas</td>\n",
       "      <td>2018-01-01</td>\n",
       "      <td>0.421875</td>\n",
       "      <td>7.6072</td>\n",
       "      <td>2018-01-01</td>\n",
       "      <td>2018</td>\n",
       "      <td>1</td>\n",
       "    </tr>\n",
       "    <tr>\n",
       "      <th>1</th>\n",
       "      <td>2</td>\n",
       "      <td>Westland</td>\n",
       "      <td>0.0</td>\n",
       "      <td>29.700</td>\n",
       "      <td>5</td>\n",
       "      <td>Central</td>\n",
       "      <td>kariox</td>\n",
       "      <td>Consumer</td>\n",
       "      <td>headset</td>\n",
       "      <td>Standard Class</td>\n",
       "      <td>...</td>\n",
       "      <td>13.3650</td>\n",
       "      <td>2018-01-01</td>\n",
       "      <td>48185</td>\n",
       "      <td>Michigan</td>\n",
       "      <td>2018-01-01</td>\n",
       "      <td>0.450000</td>\n",
       "      <td>16.3350</td>\n",
       "      <td>2018-01-01</td>\n",
       "      <td>2018</td>\n",
       "      <td>1</td>\n",
       "    </tr>\n",
       "    <tr>\n",
       "      <th>3</th>\n",
       "      <td>4</td>\n",
       "      <td>Westland</td>\n",
       "      <td>0.0</td>\n",
       "      <td>43.920</td>\n",
       "      <td>3</td>\n",
       "      <td>Central</td>\n",
       "      <td>kariox</td>\n",
       "      <td>Consumer</td>\n",
       "      <td>television</td>\n",
       "      <td>Standard Class</td>\n",
       "      <td>...</td>\n",
       "      <td>12.7368</td>\n",
       "      <td>2018-01-01</td>\n",
       "      <td>48185</td>\n",
       "      <td>Michigan</td>\n",
       "      <td>2018-01-01</td>\n",
       "      <td>0.290000</td>\n",
       "      <td>31.1832</td>\n",
       "      <td>2018-01-01</td>\n",
       "      <td>2018</td>\n",
       "      <td>1</td>\n",
       "    </tr>\n",
       "    <tr>\n",
       "      <th>4</th>\n",
       "      <td>5</td>\n",
       "      <td>Westland</td>\n",
       "      <td>0.0</td>\n",
       "      <td>66.580</td>\n",
       "      <td>2</td>\n",
       "      <td>Central</td>\n",
       "      <td>kariox</td>\n",
       "      <td>Consumer</td>\n",
       "      <td>laptop</td>\n",
       "      <td>Standard Class</td>\n",
       "      <td>...</td>\n",
       "      <td>15.9792</td>\n",
       "      <td>2018-01-01</td>\n",
       "      <td>48185</td>\n",
       "      <td>Michigan</td>\n",
       "      <td>2018-01-01</td>\n",
       "      <td>0.240000</td>\n",
       "      <td>50.6008</td>\n",
       "      <td>2018-01-01</td>\n",
       "      <td>2018</td>\n",
       "      <td>1</td>\n",
       "    </tr>\n",
       "    <tr>\n",
       "      <th>5</th>\n",
       "      <td>6</td>\n",
       "      <td>Westland</td>\n",
       "      <td>0.1</td>\n",
       "      <td>247.716</td>\n",
       "      <td>4</td>\n",
       "      <td>Central</td>\n",
       "      <td>kariox</td>\n",
       "      <td>Consumer</td>\n",
       "      <td>battery</td>\n",
       "      <td>Standard Class</td>\n",
       "      <td>...</td>\n",
       "      <td>93.5816</td>\n",
       "      <td>2018-01-01</td>\n",
       "      <td>48185</td>\n",
       "      <td>Michigan</td>\n",
       "      <td>2018-01-01</td>\n",
       "      <td>0.419753</td>\n",
       "      <td>129.3628</td>\n",
       "      <td>2018-01-01</td>\n",
       "      <td>2018</td>\n",
       "      <td>1</td>\n",
       "    </tr>\n",
       "  </tbody>\n",
       "</table>\n",
       "<p>5 rows × 21 columns</p>\n",
       "</div>"
      ],
      "text/plain": [
       "   id departure city  discount    price  no of items location   class  \\\n",
       "0   1        Houston       0.2   16.448            2  Central  kariox   \n",
       "1   2       Westland       0.0   29.700            5  Central  kariox   \n",
       "3   4       Westland       0.0   43.920            3  Central  kariox   \n",
       "4   5       Westland       0.0   66.580            2  Central  kariox   \n",
       "5   6       Westland       0.1  247.716            4  Central  kariox   \n",
       "\n",
       "    segment   sub-class   delivery type  ...   profit  delivery date  \\\n",
       "0  Consumer       phone  Standard Class  ...   5.5512     2018-01-01   \n",
       "1  Consumer     headset  Standard Class  ...  13.3650     2018-01-01   \n",
       "3  Consumer  television  Standard Class  ...  12.7368     2018-01-01   \n",
       "4  Consumer      laptop  Standard Class  ...  15.9792     2018-01-01   \n",
       "5  Consumer     battery  Standard Class  ...  93.5816     2018-01-01   \n",
       "\n",
       "  address code  departure state placement date profit_parameter  cost_price  \\\n",
       "0        77095            Texas     2018-01-01         0.421875      7.6072   \n",
       "1        48185         Michigan     2018-01-01         0.450000     16.3350   \n",
       "3        48185         Michigan     2018-01-01         0.290000     31.1832   \n",
       "4        48185         Michigan     2018-01-01         0.240000     50.6008   \n",
       "5        48185         Michigan     2018-01-01         0.419753    129.3628   \n",
       "\n",
       "     date_dt  year  month  \n",
       "0 2018-01-01  2018      1  \n",
       "1 2018-01-01  2018      1  \n",
       "3 2018-01-01  2018      1  \n",
       "4 2018-01-01  2018      1  \n",
       "5 2018-01-01  2018      1  \n",
       "\n",
       "[5 rows x 21 columns]"
      ]
     },
     "execution_count": 28,
     "metadata": {},
     "output_type": "execute_result"
    }
   ],
   "source": [
    "electronics.head()"
   ]
  },
  {
   "cell_type": "code",
   "execution_count": 15,
   "metadata": {},
   "outputs": [
    {
     "name": "stdout",
     "output_type": "stream",
     "text": [
      "(4024, 21)\n",
      "(4024,)\n"
     ]
    }
   ],
   "source": [
    "#Setting up my data for training on electronics data\n",
    "y1= electronics['profit']\n",
    "electronics.drop(['profit','departure state','departure city',\n",
    "                  'date_dt','class','delivery date','month','segment','address code','no of items','year','RID','id','placement date'],axis=1,inplace=True)\n",
    "electronics_dummy= pd.get_dummies(electronics[['delivery type',\n",
    "    'location','sub-class','profit_parameter','cost_price','price','discount']])\n",
    "X1=electronics_dummy\n",
    "print(X1.shape)\n",
    "print(y1.shape)"
   ]
  },
  {
   "cell_type": "code",
   "execution_count": 107,
   "metadata": {},
   "outputs": [
    {
     "name": "stdout",
     "output_type": "stream",
     "text": [
      "(1226, 18)\n",
      "(1226,)\n"
     ]
    }
   ],
   "source": [
    "#Setting up my data for training on food_beverage data\n",
    "y2= food_beverage['profit']\n",
    "food_beverage.drop(['profit','departure city','departure state',\n",
    " 'date_dt','segment','delivery date','class','placement date','RID','id','month','year'],axis=1,inplace=True)\n",
    "food_beverage_dummy= pd.get_dummies(food_beverage[['location','sub-class','delivery type','address code',\n",
    "    'profit_parameter','cost_price','price','no of items','discount']])\n",
    "X2=food_beverage_dummy\n",
    "print(X2.shape)\n",
    "print(y2.shape)"
   ]
  },
  {
   "cell_type": "code",
   "execution_count": 19,
   "metadata": {},
   "outputs": [
    {
     "name": "stdout",
     "output_type": "stream",
     "text": [
      "(1430, 28)\n",
      "(1430,)\n"
     ]
    }
   ],
   "source": [
    "#Setting up my data for training on clothing data\n",
    "y3= clothing['profit']\n",
    "clothing.drop(['profit','departure city','departure state',\n",
    "                    'date_dt','delivery date','placement date','id','year'],axis=1,inplace=True)\n",
    "clothing_dummy= pd.get_dummies(clothing[['class','delivery type','segment',\n",
    "    'location','sub-class','delivery type','address code','RID','profit_parameter','cost_price','month','price','no of items','discount']])\n",
    "X3=clothing_dummy\n",
    "print(X3.shape)\n",
    "print(y3.shape)"
   ]
  },
  {
   "cell_type": "code",
   "execution_count": 103,
   "metadata": {},
   "outputs": [],
   "source": [
    "#I will be using sklearn lasso or ridge regression to predict for electronics and food_beverage because \n",
    "#Random forest is not working that good\n"
   ]
  },
  {
   "cell_type": "code",
   "execution_count": 16,
   "metadata": {},
   "outputs": [
    {
     "data": {
      "text/plain": [
       "((2696, 21), (2696,), (1328, 21), (1328,))"
      ]
     },
     "execution_count": 16,
     "metadata": {},
     "output_type": "execute_result"
    }
   ],
   "source": [
    "#Test train split for electronics\n",
    "\n",
    "X1_train, X1_test, y1_train, y1_test = train_test_split(X1,y1, test_size=0.33, random_state=3)\n",
    "X1_train.shape, y1_train.shape, X1_test.shape, y1_test.shape"
   ]
  },
  {
   "cell_type": "code",
   "execution_count": 108,
   "metadata": {},
   "outputs": [
    {
     "data": {
      "text/plain": [
       "((821, 18), (821,), (405, 18), (405,))"
      ]
     },
     "execution_count": 108,
     "metadata": {},
     "output_type": "execute_result"
    }
   ],
   "source": [
    "#Test train split for food beverage\n",
    "X2_train, X2_test, y2_train, y2_test = train_test_split(X2,y2, test_size=0.33, random_state=3)\n",
    "X2_train.shape, y2_train.shape, X2_test.shape, y2_test.shape"
   ]
  },
  {
   "cell_type": "code",
   "execution_count": 20,
   "metadata": {},
   "outputs": [
    {
     "data": {
      "text/plain": [
       "((958, 28), (958,), (472, 28), (472,))"
      ]
     },
     "execution_count": 20,
     "metadata": {},
     "output_type": "execute_result"
    }
   ],
   "source": [
    "#Test train split for clothing\n",
    "X3_train, X3_test, y3_train, y3_test = train_test_split(X3,y3, test_size=0.33, random_state=3)\n",
    "X3_train.shape, y3_train.shape, X3_test.shape, y3_test.shape"
   ]
  },
  {
   "cell_type": "code",
   "execution_count": 138,
   "metadata": {},
   "outputs": [],
   "source": [
    "from math import sqrt\n",
    "from sklearn.metrics import mean_squared_error, mean_absolute_error, r2_score\n",
    "from patsy import dmatrices\n",
    "from sklearn.linear_model import Ridge\n",
    "from sklearn.linear_model import Lasso\n",
    "from sklearn.linear_model import ElasticNetCV\n",
    "from sklearn.model_selection import train_test_split"
   ]
  },
  {
   "cell_type": "code",
   "execution_count": 139,
   "metadata": {},
   "outputs": [
    {
     "name": "stdout",
     "output_type": "stream",
     "text": [
      "Mean Absolute Error: 95.19151794162795\n",
      "Mean Squared Error: 160887.2345618764\n",
      "Root Mean Squared Error: 401.1075099794024\n",
      "R2 score is 0.15255955514523023\n"
     ]
    }
   ],
   "source": [
    "en_cv=ElasticNetCV(cv=5,random_state=42).fit(X2_train,y2_train)\n",
    "food_preds_encv= en_cv.predict(X2_test)\n",
    "print('Mean Absolute Error:', metrics.mean_absolute_error(y2_test,food_preds_encv))\n",
    "print('Mean Squared Error:', metrics.mean_squared_error(y2_test,food_preds_encv))\n",
    "print('Root Mean Squared Error:', np.sqrt(metrics.mean_squared_error(y2_test,food_preds_encv)))\n",
    "#Evaluating using R^2 score\n",
    "r2 = metrics.r2_score(y2_test,food_preds_encv)\n",
    "print('R2 score is {}'.format(r2))"
   ]
  },
  {
   "cell_type": "code",
   "execution_count": null,
   "metadata": {},
   "outputs": [],
   "source": []
  },
  {
   "cell_type": "code",
   "execution_count": 69,
   "metadata": {},
   "outputs": [],
   "source": []
  },
  {
   "cell_type": "code",
   "execution_count": 17,
   "metadata": {},
   "outputs": [],
   "source": [
    "scaler = StandardScaler()\n",
    "scaler.fit(X1_train)\n",
    "X1_train = scaler.transform(X1_train)\n",
    "X1_test = scaler.transform(X1_test)"
   ]
  },
  {
   "cell_type": "code",
   "execution_count": 61,
   "metadata": {},
   "outputs": [],
   "source": [
    "#Applying SVM for predictions\n",
    "from sklearn.svm import SVR\n",
    "#from sklearn.ensemble import AdaBoostClassifier\n",
    "from sklearn.ensemble import AdaBoostRegressor"
   ]
  },
  {
   "cell_type": "code",
   "execution_count": 112,
   "metadata": {},
   "outputs": [],
   "source": [
    "SVMregressor = SVR(kernel='rbf',C=1e3, gamma=0.9)\n",
    "SVMregressor.fit(X2_train,y2_train)\n",
    "#5 Predicting a new result\n",
    "SVM_food_preds = SVMregressor.predict(X2_test)"
   ]
  },
  {
   "cell_type": "code",
   "execution_count": 129,
   "metadata": {},
   "outputs": [],
   "source": [
    "data_dmatrix = xgb.DMatrix(data=X2,label=y2)"
   ]
  },
  {
   "cell_type": "code",
   "execution_count": 151,
   "metadata": {},
   "outputs": [
    {
     "name": "stdout",
     "output_type": "stream",
     "text": [
      "[02:09:28] WARNING: C:/Users/Administrator/workspace/xgboost-win64_release_1.3.0/src/objective/regression_obj.cu:170: reg:linear is now deprecated in favor of reg:squarederror.\n",
      "RMSE: 299.102175\n",
      "[02:09:28] WARNING: C:/Users/Administrator/workspace/xgboost-win64_release_1.3.0/src/objective/regression_obj.cu:170: reg:linear is now deprecated in favor of reg:squarederror.\n",
      "[02:09:28] WARNING: C:/Users/Administrator/workspace/xgboost-win64_release_1.3.0/src/objective/regression_obj.cu:170: reg:linear is now deprecated in favor of reg:squarederror.\n",
      "[02:09:28] WARNING: C:/Users/Administrator/workspace/xgboost-win64_release_1.3.0/src/objective/regression_obj.cu:170: reg:linear is now deprecated in favor of reg:squarederror.\n",
      "[02:09:28] WARNING: C:/Users/Administrator/workspace/xgboost-win64_release_1.3.0/src/objective/regression_obj.cu:170: reg:linear is now deprecated in favor of reg:squarederror.\n",
      "[02:09:28] WARNING: C:/Users/Administrator/workspace/xgboost-win64_release_1.3.0/src/objective/regression_obj.cu:170: reg:linear is now deprecated in favor of reg:squarederror.\n",
      "[02:09:28] WARNING: C:/Users/Administrator/workspace/xgboost-win64_release_1.3.0/src/objective/regression_obj.cu:170: reg:linear is now deprecated in favor of reg:squarederror.\n",
      "[02:09:28] WARNING: C:/Users/Administrator/workspace/xgboost-win64_release_1.3.0/src/objective/regression_obj.cu:170: reg:linear is now deprecated in favor of reg:squarederror.\n",
      "[02:09:28] WARNING: C:/Users/Administrator/workspace/xgboost-win64_release_1.3.0/src/objective/regression_obj.cu:170: reg:linear is now deprecated in favor of reg:squarederror.\n",
      "[02:09:28] WARNING: C:/Users/Administrator/workspace/xgboost-win64_release_1.3.0/src/objective/regression_obj.cu:170: reg:linear is now deprecated in favor of reg:squarederror.\n",
      "[02:09:28] WARNING: C:/Users/Administrator/workspace/xgboost-win64_release_1.3.0/src/objective/regression_obj.cu:170: reg:linear is now deprecated in favor of reg:squarederror.\n"
     ]
    }
   ],
   "source": [
    "import xgboost as xgb\n",
    "#X, y = data.iloc[:,:-1],data.iloc[:,-1]\n",
    "xg_reg = xgb.XGBRegressor(objective ='reg:linear', colsample_bytree = 0.9, learning_rate =0.75,\n",
    "                max_depth = 50, alpha = 20, n_estimators = 10)\n",
    "xg_reg.fit(X2_train,y2_train)\n",
    "\n",
    "preds = xg_reg.predict(X2_test)\n",
    "rmse = np.sqrt(mean_squared_error(y2_test, preds))\n",
    "print(\"RMSE: %f\" % (rmse))\n",
    "params = {\"objective\":\"reg:linear\",'colsample_bytree': 0.3,'learning_rate': 0.1,\n",
    "                'max_depth': 10, 'alpha': 10}\n",
    "\n",
    "cv_results = xgb.cv(dtrain=data_dmatrix, params=params, nfold=10,\n",
    "                    num_boost_round=60,early_stopping_rounds=10,metrics=\"rmse\", as_pandas=True, seed=123)\n",
    "#cv_preds=cv_results.fit(X2_test)\n",
    "#cv_results"
   ]
  },
  {
   "cell_type": "code",
   "execution_count": 135,
   "metadata": {},
   "outputs": [
    {
     "name": "stdout",
     "output_type": "stream",
     "text": [
      "59    190.921412\n",
      "Name: test-rmse-mean, dtype: float64\n"
     ]
    }
   ],
   "source": [
    "print((cv_results[\"test-rmse-mean\"]).tail(1))"
   ]
  },
  {
   "cell_type": "code",
   "execution_count": 130,
   "metadata": {},
   "outputs": [
    {
     "name": "stdout",
     "output_type": "stream",
     "text": [
      "[01:49:01] WARNING: C:/Users/Administrator/workspace/xgboost-win64_release_1.3.0/src/objective/regression_obj.cu:170: reg:linear is now deprecated in favor of reg:squarederror.\n"
     ]
    },
    {
     "ename": "TypeError",
     "evalue": "('Expecting data to be a DMatrix object, got: ', <class 'numpy.ndarray'>)",
     "output_type": "error",
     "traceback": [
      "\u001b[1;31m---------------------------------------------------------------------------\u001b[0m",
      "\u001b[1;31mTypeError\u001b[0m                                 Traceback (most recent call last)",
      "\u001b[1;32m<ipython-input-130-a8cf79fed0ac>\u001b[0m in \u001b[0;36m<module>\u001b[1;34m\u001b[0m\n\u001b[0;32m      1\u001b[0m \u001b[0mxg_reg\u001b[0m \u001b[1;33m=\u001b[0m \u001b[0mxgb\u001b[0m\u001b[1;33m.\u001b[0m\u001b[0mtrain\u001b[0m\u001b[1;33m(\u001b[0m\u001b[0mparams\u001b[0m\u001b[1;33m=\u001b[0m\u001b[0mparams\u001b[0m\u001b[1;33m,\u001b[0m \u001b[0mdtrain\u001b[0m\u001b[1;33m=\u001b[0m\u001b[0mdata_dmatrix\u001b[0m\u001b[1;33m,\u001b[0m \u001b[0mnum_boost_round\u001b[0m\u001b[1;33m=\u001b[0m\u001b[1;36m10\u001b[0m\u001b[1;33m)\u001b[0m\u001b[1;33m\u001b[0m\u001b[1;33m\u001b[0m\u001b[0m\n\u001b[1;32m----> 2\u001b[1;33m \u001b[0mfood_predicted_y\u001b[0m \u001b[1;33m=\u001b[0m \u001b[0mxg_reg\u001b[0m\u001b[1;33m.\u001b[0m\u001b[0mpredict\u001b[0m\u001b[1;33m(\u001b[0m\u001b[0mX2_test\u001b[0m\u001b[1;33m)\u001b[0m\u001b[1;33m\u001b[0m\u001b[1;33m\u001b[0m\u001b[0m\n\u001b[0m\u001b[0;32m      3\u001b[0m \u001b[0mprint\u001b[0m\u001b[1;33m(\u001b[0m\u001b[0mmetrics\u001b[0m\u001b[1;33m.\u001b[0m\u001b[0mr2_score\u001b[0m\u001b[1;33m(\u001b[0m\u001b[0my2_test\u001b[0m\u001b[1;33m,\u001b[0m\u001b[0mfood_predicted_y\u001b[0m\u001b[1;33m)\u001b[0m\u001b[1;33m)\u001b[0m\u001b[1;33m\u001b[0m\u001b[1;33m\u001b[0m\u001b[0m\n\u001b[0;32m      4\u001b[0m \u001b[1;31m#print(metrics.mean_squared_log_error(y2_test,food_predicted_y))\u001b[0m\u001b[1;33m\u001b[0m\u001b[1;33m\u001b[0m\u001b[1;33m\u001b[0m\u001b[0m\n\u001b[0;32m      5\u001b[0m \u001b[1;33m\u001b[0m\u001b[0m\n",
      "\u001b[1;32m~\\anaconda3\\lib\\site-packages\\xgboost\\core.py\u001b[0m in \u001b[0;36mpredict\u001b[1;34m(self, data, output_margin, ntree_limit, pred_leaf, pred_contribs, approx_contribs, pred_interactions, validate_features, training)\u001b[0m\n\u001b[0;32m   1479\u001b[0m \u001b[1;33m\u001b[0m\u001b[0m\n\u001b[0;32m   1480\u001b[0m         \u001b[1;32mif\u001b[0m \u001b[1;32mnot\u001b[0m \u001b[0misinstance\u001b[0m\u001b[1;33m(\u001b[0m\u001b[0mdata\u001b[0m\u001b[1;33m,\u001b[0m \u001b[0mDMatrix\u001b[0m\u001b[1;33m)\u001b[0m\u001b[1;33m:\u001b[0m\u001b[1;33m\u001b[0m\u001b[1;33m\u001b[0m\u001b[0m\n\u001b[1;32m-> 1481\u001b[1;33m             raise TypeError('Expecting data to be a DMatrix object, got: ',\n\u001b[0m\u001b[0;32m   1482\u001b[0m                             type(data))\n\u001b[0;32m   1483\u001b[0m \u001b[1;33m\u001b[0m\u001b[0m\n",
      "\u001b[1;31mTypeError\u001b[0m: ('Expecting data to be a DMatrix object, got: ', <class 'numpy.ndarray'>)"
     ]
    }
   ],
   "source": [
    "#xg_reg = xgb.train(params=params, dtrain=data_dmatrix, num_boost_round=10)\n",
    "food_predicted_y = xg_reg.predict(X2_test)\n",
    "print(metrics.r2_score(y2_test,food_predicted_y))\n",
    "#print(metrics.mean_squared_log_error(y2_test,food_predicted_y))\n",
    "    \n",
    "plt.figure(figsize=(10,10))\n",
    "sns.regplot(y2_test,food_predicted_y, fit_reg=True, scatter_kws={\"s\": 100})"
   ]
  },
  {
   "cell_type": "code",
   "execution_count": 110,
   "metadata": {},
   "outputs": [
    {
     "name": "stdout",
     "output_type": "stream",
     "text": [
      "AdaBoostRegressor()\n"
     ]
    }
   ],
   "source": [
    "#Using Adaboost regressor for fitting in food data\n",
    "model_ABC = AdaBoostRegressor()\n",
    "model_ABC.fit(X2_train, y2_train)\n",
    "print(model_ABC)\n",
    "food_predicted_y = model_ABC.predict(X2_test)\n",
    "#print(metrics.classification_report(food_predicted_y,y2_test))\n",
    "#print(metrics.confusion_matrix(food_predicted_y,y2_test))"
   ]
  },
  {
   "cell_type": "code",
   "execution_count": 111,
   "metadata": {},
   "outputs": [
    {
     "name": "stdout",
     "output_type": "stream",
     "text": [
      "0.40868506827365003\n"
     ]
    },
    {
     "name": "stderr",
     "output_type": "stream",
     "text": [
      "C:\\Users\\Arkoprova Madhu\\anaconda3\\lib\\site-packages\\seaborn\\_decorators.py:36: FutureWarning: Pass the following variables as keyword args: x, y. From version 0.12, the only valid positional argument will be `data`, and passing other arguments without an explicit keyword will result in an error or misinterpretation.\n",
      "  warnings.warn(\n"
     ]
    },
    {
     "data": {
      "text/plain": [
       "<AxesSubplot:xlabel='profit'>"
      ]
     },
     "execution_count": 111,
     "metadata": {},
     "output_type": "execute_result"
    },
    {
     "data": {
      "image/png": "[encoded data removed]",
      "text/plain": [
       "<Figure size 720x720 with 1 Axes>"
      ]
     },
     "metadata": {
      "needs_background": "light"
     },
     "output_type": "display_data"
    }
   ],
   "source": [
    "print(metrics.r2_score(y2_test,food_predicted_y))\n",
    "#print(metrics.mean_squared_log_error(y2_test,food_predicted_y))\n",
    "    \n",
    "plt.figure(figsize=(10,10))\n",
    "sns.regplot(y2_test,food_predicted_y, fit_reg=True, scatter_kws={\"s\": 100})"
   ]
  },
  {
   "cell_type": "code",
   "execution_count": 70,
   "metadata": {},
   "outputs": [
    {
     "data": {
      "text/plain": [
       "6.499518764219888"
      ]
     },
     "execution_count": 70,
     "metadata": {},
     "output_type": "execute_result"
    }
   ],
   "source": [
    "#Applying Ridge regression\n",
    "ridge=Ridge(normalize=True,random_state=0).fit(X1_train,y1_train)\n",
    "ridge.coef_[0]"
   ]
  },
  {
   "cell_type": "code",
   "execution_count": 113,
   "metadata": {},
   "outputs": [],
   "source": [
    "\n",
    "scaler.fit(X2_train)\n",
    "X2_train = scaler.transform(X2_train)\n",
    "X2_test = scaler.transform(X2_test)\n",
    "scaler.fit(X3_train)\n",
    "X3_train = scaler.transform(X3_train)\n",
    "X3_test = scaler.transform(X3_test)"
   ]
  },
  {
   "cell_type": "code",
   "execution_count": 56,
   "metadata": {},
   "outputs": [],
   "source": [
    "from sklearn.ensemble import RandomForestRegressor\n",
    "rf = RandomForestRegressor(n_estimators=1000, max_depth=20,random_state=42)\n",
    "rf.fit(X1_train, y1_train)\n",
    "rf_electronics_pred=rf.predict(X1_test)"
   ]
  },
  {
   "cell_type": "code",
   "execution_count": 42,
   "metadata": {},
   "outputs": [
    {
     "name": "stdout",
     "output_type": "stream",
     "text": [
      "8.557812851259754 11\n"
     ]
    }
   ],
   "source": [
    "#Using decision tree\n",
    "from sklearn.tree import DecisionTreeRegressor\n",
    "dtr_model = DecisionTreeRegressor(random_state=0, max_depth = 11)\n",
    "dtr_model.fit(X1_train, y1_train)\n",
    "electronics_preds = dtr_model.predict(X1_test)\n",
    "print(mean_absolute_error(y1_test, electronics_preds), dtr_model.get_depth())"
   ]
  },
  {
   "cell_type": "code",
   "execution_count": 97,
   "metadata": {},
   "outputs": [
    {
     "name": "stdout",
     "output_type": "stream",
     "text": [
      "48.197241298431756 13\n"
     ]
    }
   ],
   "source": [
    "#Decision tree for food\n",
    "dtr_model = DecisionTreeRegressor(random_state=0, max_depth = 13)\n",
    "dtr_model.fit(X2_train, y2_train)\n",
    "food_preds = dtr_model.predict(X2_test)\n",
    "print(mean_absolute_error(y2_test, food_preds), dtr_model.get_depth())"
   ]
  },
  {
   "cell_type": "code",
   "execution_count": 157,
   "metadata": {},
   "outputs": [
    {
     "data": {
      "image/png": "[encoded data removed]",
      "text/plain": [
       "<Figure size 432x288 with 1 Axes>"
      ]
     },
     "metadata": {
      "needs_background": "light"
     },
     "output_type": "display_data"
    }
   ],
   "source": [
    "#Finding out error vs depth\n",
    "maeList = []\n",
    "depthList = []\n",
    "\n",
    "for depths in range(1, 19):\n",
    "    dtr_model = DecisionTreeRegressor(random_state=0, max_depth=depths)\n",
    "    dtr_model.fit(X2_train, y2_train)\n",
    "    preds = dtr_model.predict(X2_test)\n",
    "    this_mae = mean_absolute_error(y2_test, preds)\n",
    "    maeList.append(this_mae)\n",
    "    depthList.append(depths)\n",
    "\n",
    "plot.figure()\n",
    "plot.plot(depthList, maeList)\n",
    "plot.title(\"Mean Absolute Error for different max depth values\")\n",
    "plot.xlabel(\"Depth\")\n",
    "plot.ylabel(\"MAE\")\n",
    "plot.show()"
   ]
  },
  {
   "cell_type": "code",
   "execution_count": 59,
   "metadata": {},
   "outputs": [
    {
     "data": {
      "image/png": "[encoded data removed]",
      "text/plain": [
       "<Figure size 432x288 with 1 Axes>"
      ]
     },
     "metadata": {
      "needs_background": "light"
     },
     "output_type": "display_data"
    }
   ],
   "source": [
    "import matplotlib.pyplot as plot\n",
    "\n",
    "maeList = []\n",
    "depthList = []\n",
    "\n",
    "for depths in range(1, 19):\n",
    "    dtr_model = DecisionTreeRegressor(random_state=0, max_depth=depths)\n",
    "    dtr_model.fit(X1_train, y1_train)\n",
    "    preds = dtr_model.predict(X1_test)\n",
    "    this_mae = mean_absolute_error(y1_test, preds)\n",
    "    maeList.append(this_mae)\n",
    "    depthList.append(depths)\n",
    "\n",
    "plot.figure()\n",
    "plot.plot(depthList, maeList)\n",
    "plot.title(\"Mean Absolute Error for different max depth values\")\n",
    "plot.xlabel(\"Depth\")\n",
    "plot.ylabel(\"MAE\")\n",
    "plot.show()"
   ]
  },
  {
   "cell_type": "code",
   "execution_count": 114,
   "metadata": {},
   "outputs": [],
   "source": [
    "rf_food = RandomForestRegressor(n_estimators=550, max_depth=15,random_state=42)\n",
    "rf_food.fit(X2_train, y2_train)\n",
    "rf_food_pred=rf_food.predict(X2_test)"
   ]
  },
  {
   "cell_type": "code",
   "execution_count": 58,
   "metadata": {},
   "outputs": [],
   "source": [
    "#Tuning has been perfect for this random forest\n",
    "rf_clothing = RandomForestRegressor(n_estimators=900, max_depth=9,random_state=43)\n",
    "rf_clothing.fit(X3_train, y3_train)\n",
    "rf_clothing_pred=rf_clothing.predict(X3_test)"
   ]
  },
  {
   "cell_type": "code",
   "execution_count": null,
   "metadata": {},
   "outputs": [],
   "source": []
  },
  {
   "cell_type": "code",
   "execution_count": 60,
   "metadata": {},
   "outputs": [
    {
     "data": {
      "text/plain": [
       "324      12.9900\n",
       "5623     16.6140\n",
       "5815      0.0000\n",
       "2810     36.2250\n",
       "4691     -1.6752\n",
       "          ...   \n",
       "3003    422.5100\n",
       "66       28.5984\n",
       "5274    -81.9400\n",
       "4059     32.6332\n",
       "537     -84.2928\n",
       "Name: profit, Length: 472, dtype: float64"
      ]
     },
     "execution_count": 60,
     "metadata": {},
     "output_type": "execute_result"
    }
   ],
   "source": [
    "y3_test  #Predictions are pretty good sob ,ile jacche"
   ]
  },
  {
   "cell_type": "code",
   "execution_count": 61,
   "metadata": {},
   "outputs": [
    {
     "data": {
      "text/html": [
       "<div>\n",
       "<style scoped>\n",
       "    .dataframe tbody tr th:only-of-type {\n",
       "        vertical-align: middle;\n",
       "    }\n",
       "\n",
       "    .dataframe tbody tr th {\n",
       "        vertical-align: top;\n",
       "    }\n",
       "\n",
       "    .dataframe thead th {\n",
       "        text-align: right;\n",
       "    }\n",
       "</style>\n",
       "<table border=\"1\" class=\"dataframe\">\n",
       "  <thead>\n",
       "    <tr style=\"text-align: right;\">\n",
       "      <th></th>\n",
       "      <th>Actual_Clothing_Profit</th>\n",
       "      <th>Predicted_CLothing_Profit</th>\n",
       "    </tr>\n",
       "  </thead>\n",
       "  <tbody>\n",
       "    <tr>\n",
       "      <th>324</th>\n",
       "      <td>12.9900</td>\n",
       "      <td>13.188974</td>\n",
       "    </tr>\n",
       "    <tr>\n",
       "      <th>5623</th>\n",
       "      <td>16.6140</td>\n",
       "      <td>14.536011</td>\n",
       "    </tr>\n",
       "    <tr>\n",
       "      <th>5815</th>\n",
       "      <td>0.0000</td>\n",
       "      <td>-0.157228</td>\n",
       "    </tr>\n",
       "    <tr>\n",
       "      <th>2810</th>\n",
       "      <td>36.2250</td>\n",
       "      <td>41.180313</td>\n",
       "    </tr>\n",
       "    <tr>\n",
       "      <th>4691</th>\n",
       "      <td>-1.6752</td>\n",
       "      <td>-2.409553</td>\n",
       "    </tr>\n",
       "    <tr>\n",
       "      <th>...</th>\n",
       "      <td>...</td>\n",
       "      <td>...</td>\n",
       "    </tr>\n",
       "    <tr>\n",
       "      <th>3003</th>\n",
       "      <td>422.5100</td>\n",
       "      <td>355.173986</td>\n",
       "    </tr>\n",
       "    <tr>\n",
       "      <th>66</th>\n",
       "      <td>28.5984</td>\n",
       "      <td>34.807521</td>\n",
       "    </tr>\n",
       "    <tr>\n",
       "      <th>5274</th>\n",
       "      <td>-81.9400</td>\n",
       "      <td>-69.883985</td>\n",
       "    </tr>\n",
       "    <tr>\n",
       "      <th>4059</th>\n",
       "      <td>32.6332</td>\n",
       "      <td>31.779191</td>\n",
       "    </tr>\n",
       "    <tr>\n",
       "      <th>537</th>\n",
       "      <td>-84.2928</td>\n",
       "      <td>-81.570163</td>\n",
       "    </tr>\n",
       "  </tbody>\n",
       "</table>\n",
       "<p>472 rows × 2 columns</p>\n",
       "</div>"
      ],
      "text/plain": [
       "      Actual_Clothing_Profit  Predicted_CLothing_Profit\n",
       "324                  12.9900                  13.188974\n",
       "5623                 16.6140                  14.536011\n",
       "5815                  0.0000                  -0.157228\n",
       "2810                 36.2250                  41.180313\n",
       "4691                 -1.6752                  -2.409553\n",
       "...                      ...                        ...\n",
       "3003                422.5100                 355.173986\n",
       "66                   28.5984                  34.807521\n",
       "5274                -81.9400                 -69.883985\n",
       "4059                 32.6332                  31.779191\n",
       "537                 -84.2928                 -81.570163\n",
       "\n",
       "[472 rows x 2 columns]"
      ]
     },
     "execution_count": 61,
     "metadata": {},
     "output_type": "execute_result"
    }
   ],
   "source": [
    "df=pd.DataFrame({'Actual_Clothing_Profit':y3_test, 'Predicted_CLothing_Profit':rf_clothing_pred})\n",
    "df"
   ]
  },
  {
   "cell_type": "code",
   "execution_count": 25,
   "metadata": {},
   "outputs": [],
   "source": [
    "import numpy as np\n",
    "from sklearn import metrics"
   ]
  },
  {
   "cell_type": "code",
   "execution_count": 62,
   "metadata": {},
   "outputs": [
    {
     "name": "stdout",
     "output_type": "stream",
     "text": [
      "Mean Absolute Error: 9.929282159553766\n",
      "Mean Squared Error: 622.8424835342438\n",
      "Root Mean Squared Error: 24.95681236725243\n"
     ]
    }
   ],
   "source": [
    "\n",
    "print('Mean Absolute Error:', metrics.mean_absolute_error(y3_test, rf_clothing_pred))\n",
    "print('Mean Squared Error:', metrics.mean_squared_error(y3_test, rf_clothing_pred))\n",
    "print('Root Mean Squared Error:', np.sqrt(metrics.mean_squared_error(y3_test, rf_clothing_pred)))"
   ]
  },
  {
   "cell_type": "code",
   "execution_count": 63,
   "metadata": {},
   "outputs": [
    {
     "name": "stdout",
     "output_type": "stream",
     "text": [
      "R2 score is 0.9609935054699242\n"
     ]
    }
   ],
   "source": [
    "#Evaluating using R^2 score\n",
    "r2 = metrics.r2_score(y3_test,rf_clothing_pred)\n",
    "print('R2 score is {}'.format(r2))"
   ]
  },
  {
   "cell_type": "code",
   "execution_count": 115,
   "metadata": {},
   "outputs": [
    {
     "name": "stdout",
     "output_type": "stream",
     "text": [
      "Mean Absolute Error: 8.453159000436132\n",
      "Mean Squared Error: 16414.11890142931\n",
      "Root Mean Squared Error: 128.1175979381026\n",
      "R2 score is 0.29699481134961103\n"
     ]
    }
   ],
   "source": [
    "#Testing for electronics our goodness of fit\n",
    "df1=pd.DataFrame({'Actual_Electronics_Profit':y1_test, 'Predicted_Electronics_Profit':rf_electronics_pred})\n",
    "df1\n",
    "print('Mean Absolute Error:', metrics.mean_absolute_error(y1_test,rf_electronics_pred))\n",
    "print('Mean Squared Error:', metrics.mean_squared_error(y1_test,rf_electronics_pred))\n",
    "print('Root Mean Squared Error:', np.sqrt(metrics.mean_squared_error(y1_test,rf_electronics_pred)))\n",
    "#Evaluating using R^2 score\n",
    "r2 = metrics.r2_score(y1_test,rf_electronics_pred)\n",
    "print('R2 score is {}'.format(r2))"
   ]
  },
  {
   "cell_type": "code",
   "execution_count": 61,
   "metadata": {},
   "outputs": [
    {
     "name": "stdout",
     "output_type": "stream",
     "text": [
      "Mean Absolute Error: 8.557812851259754\n",
      "Mean Squared Error: 14252.825059038058\n",
      "Root Mean Squared Error: 119.38519614691789\n",
      "R2 score is 0.38956150923473964\n"
     ]
    }
   ],
   "source": [
    "#Testing for electronics our goodness of fit\n",
    "df1=pd.DataFrame({'Actual_Electronics_Profit':y1_test, 'Predicted_Electronics_Profit':electronics_preds})\n",
    "df1\n",
    "print('Mean Absolute Error:', metrics.mean_absolute_error(y1_test, electronics_preds))\n",
    "print('Mean Squared Error:', metrics.mean_squared_error(y1_test, electronics_preds))\n",
    "print('Root Mean Squared Error:', np.sqrt(metrics.mean_squared_error(y1_test, electronics_preds)))\n",
    "#Evaluating using R^2 score\n",
    "r2 = metrics.r2_score(y1_test, electronics_preds)\n",
    "print('R2 score is {}'.format(r2))"
   ]
  },
  {
   "cell_type": "code",
   "execution_count": 116,
   "metadata": {},
   "outputs": [
    {
     "name": "stdout",
     "output_type": "stream",
     "text": [
      "Mean Absolute Error: 38.474423385467446\n",
      "Mean Squared Error: 116161.48117819468\n",
      "Root Mean Squared Error: 340.82470740572006\n",
      "R2 score is 0.3881432697087053\n"
     ]
    }
   ],
   "source": [
    "#Testing for electronics our goodness of fit\n",
    "df1=pd.DataFrame({'Actual_Food_beverage_Profit':y2_test, 'Predicted_Food_Profit':rf_food_pred})\n",
    "df1\n",
    "print('Mean Absolute Error:', metrics.mean_absolute_error(y2_test, rf_food_pred))\n",
    "print('Mean Squared Error:', metrics.mean_squared_error(y2_test, rf_food_pred))\n",
    "print('Root Mean Squared Error:', np.sqrt(metrics.mean_squared_error(y2_test, rf_food_pred)))\n",
    "#Evaluating using R^2 score\n",
    "r2 = metrics.r2_score(y2_test, rf_food_pred)\n",
    "print('R2 score is {}'.format(r2))"
   ]
  },
  {
   "cell_type": "code",
   "execution_count": 117,
   "metadata": {},
   "outputs": [
    {
     "name": "stdout",
     "output_type": "stream",
     "text": [
      "Mean Absolute Error: 48.197241298431756\n",
      "Mean Squared Error: 126521.45642052537\n",
      "Root Mean Squared Error: 355.6985471161295\n",
      "R2 score is 0.3335742291508691\n"
     ]
    }
   ],
   "source": [
    "#Testing for electronics our goodness of fit\n",
    "df1=pd.DataFrame({'Actual_Food_beverage_Profit':y2_test, 'Predicted_Food_Profit':food_preds})\n",
    "df1\n",
    "print('Mean Absolute Error:', metrics.mean_absolute_error(y2_test,food_preds))\n",
    "print('Mean Squared Error:', metrics.mean_squared_error(y2_test,food_preds))\n",
    "print('Root Mean Squared Error:', np.sqrt(metrics.mean_squared_error(y2_test,food_preds)))\n",
    "#Evaluating using R^2 score\n",
    "r2 = metrics.r2_score(y2_test,food_preds)\n",
    "print('R2 score is {}'.format(r2))"
   ]
  },
  {
   "cell_type": "code",
   "execution_count": 118,
   "metadata": {},
   "outputs": [
    {
     "name": "stdout",
     "output_type": "stream",
     "text": [
      "Mean Absolute Error: 133.46786098324733\n",
      "Mean Squared Error: 190891.272309686\n",
      "Root Mean Squared Error: 436.91105766469906\n",
      "R2 score is -0.005480547698753613\n"
     ]
    }
   ],
   "source": [
    "\n",
    "#Testing for electronics our goodness of fit\n",
    "df1=pd.DataFrame({'Actual_Food_beverage_Profit':y2_test, 'Predicted_Food_Profit':SVM_food_preds})\n",
    "df1\n",
    "print('Mean Absolute Error:', metrics.mean_absolute_error(y2_test,SVM_food_preds))\n",
    "print('Mean Squared Error:', metrics.mean_squared_error(y2_test,SVM_food_preds))\n",
    "print('Root Mean Squared Error:', np.sqrt(metrics.mean_squared_error(y2_test,SVM_food_preds)))\n",
    "#Evaluating using R^2 score\n",
    "r2 = metrics.r2_score(y2_test,SVM_food_preds)\n",
    "print('R2 score is {}'.format(r2))"
   ]
  }
 ],
 "metadata": {
  "kernelspec": {
   "display_name": "Python 3",
   "language": "python",
   "name": "python3"
  },
  "language_info": {
   "codemirror_mode": {
    "name": "ipython",
    "version": 3
   },
   "file_extension": ".py",
   "mimetype": "text/x-python",
   "name": "python",
   "nbconvert_exporter": "python",
   "pygments_lexer": "ipython3",
   "version": "3.8.5"
  }
 },
 "nbformat": 4,
 "nbformat_minor": 4
}
